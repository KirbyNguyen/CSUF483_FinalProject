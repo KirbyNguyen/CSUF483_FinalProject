{
 "cells": [
  {
   "cell_type": "code",
   "execution_count": 1,
   "id": "49bf9909",
   "metadata": {},
   "outputs": [],
   "source": [
    "import pandas as pd\n",
    "import numpy as np\n",
    "from sklearn.model_selection import train_test_split"
   ]
  },
  {
   "cell_type": "code",
   "execution_count": 2,
   "id": "ff66901e",
   "metadata": {},
   "outputs": [],
   "source": [
    "train_set = pd.read_csv(\"train.csv\")\n",
    "test_set = pd.read_csv(\"test.csv\")"
   ]
  },
  {
   "cell_type": "code",
   "execution_count": 3,
   "id": "1036229d",
   "metadata": {
    "scrolled": false
   },
   "outputs": [],
   "source": [
    "#Finding correlation between the features\n",
    "# print(train_set.corr())"
   ]
  },
  {
   "cell_type": "markdown",
   "id": "2a41756a",
   "metadata": {},
   "source": [
    "SalePrice is correlated to OverallQual, YearBuilt, YearRemodAdd, TotalBsmtSF, 1stFlrSF, GrLivArea, FullBath, TotRmsAbvGrd, GarageCars, GarageArea (over 0.5 or under -0.5)"
   ]
  },
  {
   "cell_type": "code",
   "execution_count": 4,
   "id": "fc3ea3fd",
   "metadata": {},
   "outputs": [],
   "source": [
    "# For all the features\n",
    "X_all = train_set.iloc[:, :-1].values\n",
    "y_all = train_set.iloc[:, -1].values"
   ]
  },
  {
   "cell_type": "code",
   "execution_count": 5,
   "id": "1a77c880",
   "metadata": {},
   "outputs": [],
   "source": [
    "# For highly correlated\n",
    "X_high = train_set.loc[:, [\"OverallQual\", \"YearBuilt\", \"YearRemodAdd\", \"TotalBsmtSF\", \"1stFlrSF\", \"GrLivArea\", \"FullBath\", \"TotRmsAbvGrd\", \"GarageCars\", \"GarageArea\"]].values\n",
    "y_high = train_set.iloc[:, -1].values"
   ]
  },
  {
   "cell_type": "code",
   "execution_count": 6,
   "id": "ac875131",
   "metadata": {},
   "outputs": [],
   "source": [
    "# Linear Regression Model\n",
    "from sklearn.linear_model import LinearRegression\n",
    "from sklearn.metrics import mean_squared_error\n",
    "\n",
    "linear_regression_model = LinearRegression()"
   ]
  },
  {
   "cell_type": "code",
   "execution_count": 7,
   "id": "9b41697a",
   "metadata": {},
   "outputs": [
    {
     "data": {
      "text/plain": [
       "LinearRegression()"
      ]
     },
     "execution_count": 7,
     "metadata": {},
     "output_type": "execute_result"
    }
   ],
   "source": [
    "# Predict with highly-correlated set\n",
    "X_train, X_test, y_train, y_test = train_test_split(X_high, y_high, test_size=0.05, random_state=0)\n",
    "linear_regression_model.fit(X_train, y_train)"
   ]
  },
  {
   "cell_type": "code",
   "execution_count": 8,
   "id": "e135e399",
   "metadata": {},
   "outputs": [],
   "source": [
    "y_pred = linear_regression_model.predict(X_test)"
   ]
  },
  {
   "cell_type": "code",
   "execution_count": 9,
   "id": "b775f01f",
   "metadata": {},
   "outputs": [
    {
     "data": {
      "text/plain": [
       "1981699804.6586564"
      ]
     },
     "execution_count": 9,
     "metadata": {},
     "output_type": "execute_result"
    }
   ],
   "source": [
    "mean_squared_error(y_test, y_pred)"
   ]
  },
  {
   "cell_type": "code",
   "execution_count": 10,
   "id": "a32b4f5f",
   "metadata": {},
   "outputs": [],
   "source": [
    "# Predict with all-features set\n",
    "# X_train, X_test, y_train, y_test = train_test_split(X_all, y_all, test_size=0.05, random_state=0)\n",
    "# linear_regression_model.fit(X_train, y_train)"
   ]
  },
  {
   "cell_type": "code",
   "execution_count": 11,
   "id": "069c68f5",
   "metadata": {},
   "outputs": [],
   "source": [
    "# y_pred = linear_regression_model.predict(X_test)"
   ]
  },
  {
   "cell_type": "code",
   "execution_count": 12,
   "id": "bcbaf346",
   "metadata": {},
   "outputs": [],
   "source": [
    "# mean_squared_error(y_test, y_pred)"
   ]
  },
  {
   "cell_type": "code",
   "execution_count": 21,
   "id": "f5ba5d98",
   "metadata": {},
   "outputs": [],
   "source": [
    "# Polynomial Regression Model\n",
    "from sklearn.preprocessing import PolynomialFeatures\n",
    "\n",
    "poly_reg=PolynomialFeatures(degree=10)"
   ]
  },
  {
   "cell_type": "code",
   "execution_count": 14,
   "id": "26ce0daf",
   "metadata": {},
   "outputs": [],
   "source": [
    "# Predict with highly-correlated set\n",
    "X_train, X_test, y_train, y_test = train_test_split(X_high, y_high, test_size=0.05, random_state=0)"
   ]
  },
  {
   "cell_type": "code",
   "execution_count": 22,
   "id": "4c065445",
   "metadata": {},
   "outputs": [
    {
     "data": {
      "text/plain": [
       "PolynomialFeatures(degree=10)"
      ]
     },
     "execution_count": 22,
     "metadata": {},
     "output_type": "execute_result"
    }
   ],
   "source": [
    "X_poly = poly_reg.fit_transform(X_high)\n",
    "poly_reg.fit(X_poly,y_high)"
   ]
  },
  {
   "cell_type": "code",
   "execution_count": 23,
   "id": "fc433c64",
   "metadata": {},
   "outputs": [
    {
     "data": {
      "text/plain": [
       "LinearRegression()"
      ]
     },
     "execution_count": 23,
     "metadata": {},
     "output_type": "execute_result"
    }
   ],
   "source": [
    "lin_reg2=LinearRegression()\n",
    "lin_reg2.fit(X_poly,y_high)"
   ]
  },
  {
   "cell_type": "code",
   "execution_count": 24,
   "id": "c9dbda72",
   "metadata": {},
   "outputs": [],
   "source": [
    "y_pred = lin_reg2.predict( poly_reg.fit_transform(X_test))"
   ]
  },
  {
   "cell_type": "code",
   "execution_count": 25,
   "id": "1ced6675",
   "metadata": {},
   "outputs": [
    {
     "data": {
      "text/plain": [
       "12511825.16252967"
      ]
     },
     "execution_count": 25,
     "metadata": {},
     "output_type": "execute_result"
    }
   ],
   "source": [
    "mean_squared_error(y_test, y_pred)"
   ]
  },
  {
   "cell_type": "code",
   "execution_count": null,
   "id": "fd4bf029",
   "metadata": {},
   "outputs": [],
   "source": []
  }
 ],
 "metadata": {
  "kernelspec": {
   "display_name": "Python 3 (ipykernel)",
   "language": "python",
   "name": "python3"
  },
  "language_info": {
   "codemirror_mode": {
    "name": "ipython",
    "version": 3
   },
   "file_extension": ".py",
   "mimetype": "text/x-python",
   "name": "python",
   "nbconvert_exporter": "python",
   "pygments_lexer": "ipython3",
   "version": "3.10.4"
  }
 },
 "nbformat": 4,
 "nbformat_minor": 5
}
