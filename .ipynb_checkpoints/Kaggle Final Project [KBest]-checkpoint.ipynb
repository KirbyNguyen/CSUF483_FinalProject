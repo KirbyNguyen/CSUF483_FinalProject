{
 "cells": [
  {
   "cell_type": "markdown",
   "id": "51bd48ea",
   "metadata": {},
   "source": [
    "# Housing Prices Predictions\n",
    "Matthew Dalby & Duc Nguyen"
   ]
  },
  {
   "cell_type": "code",
   "execution_count": 1,
   "id": "49bf9909",
   "metadata": {},
   "outputs": [],
   "source": [
    "import pandas as pd\n",
    "import numpy as np\n",
    "from sklearn.model_selection import train_test_split\n",
    "from sklearn.metrics import mean_absolute_percentage_error"
   ]
  },
  {
   "cell_type": "markdown",
   "id": "67dc379f",
   "metadata": {},
   "source": [
    "## Importing data\n",
    "Our dataset is titled \"House Prices - Advanced Regression Techniques\" and comes from kaggle."
   ]
  },
  {
   "cell_type": "code",
   "execution_count": 2,
   "id": "ff66901e",
   "metadata": {},
   "outputs": [],
   "source": [
    "train_set = pd.read_csv(\"train.csv\")"
   ]
  },
  {
   "cell_type": "markdown",
   "id": "e0579e2a",
   "metadata": {},
   "source": [
    "## Feature selection\n",
    "\n",
    "### Using KBest features from SKlearn\n"
   ]
  },
  {
   "cell_type": "code",
   "execution_count": 3,
   "id": "84cb2dc9",
   "metadata": {},
   "outputs": [
    {
     "name": "stderr",
     "output_type": "stream",
     "text": [
      "C:\\Users\\kirby\\AppData\\Local\\Temp\\ipykernel_5004\\1997449239.py:2: FutureWarning: Dropping of nuisance columns in DataFrame reductions (with 'numeric_only=None') is deprecated; in a future version this will raise TypeError.  Select only valid columns before calling the reduction.\n",
      "  train_set=train_set.fillna(train_set.mean())\n"
     ]
    }
   ],
   "source": [
    "#Remove NA \n",
    "train_set=train_set.fillna(train_set.mean())"
   ]
  },
  {
   "cell_type": "code",
   "execution_count": 4,
   "id": "29e442aa",
   "metadata": {},
   "outputs": [],
   "source": [
    "#Convert catagorical to numerical\n",
    "\n",
    "#identify all categorical variables\n",
    "cat_columns = train_set.select_dtypes(['object']).columns\n",
    "\n",
    "#convert all categorical variables to numeric\n",
    "train_set[cat_columns] = train_set[cat_columns].apply(lambda x: pd.factorize(x)[0])"
   ]
  },
  {
   "cell_type": "code",
   "execution_count": 5,
   "id": "20b3be2d",
   "metadata": {},
   "outputs": [
    {
     "name": "stdout",
     "output_type": "stream",
     "text": [
      "Train shape before feature reduction: (1460, 80)\n",
      "Train shape after feature reduction: (1460, 15)\n"
     ]
    }
   ],
   "source": [
    "#Select KBest features\n",
    "\n",
    "from sklearn.feature_selection import SelectKBest, f_classif\n",
    "\n",
    "target_col = \"SalePrice\"\n",
    "X = train_set.loc[:, train_set.columns != target_col]\n",
    "y = train_set.loc[:, target_col]\n",
    "\n",
    "print(\"Train shape before feature reduction:\",X.shape)\n",
    "\n",
    "X_new = SelectKBest(f_classif, k=15).fit_transform(X,y)\n",
    "\n",
    "print(\"Train shape after feature reduction:\",X_new.shape)"
   ]
  },
  {
   "cell_type": "code",
   "execution_count": 6,
   "id": "60a3db75",
   "metadata": {},
   "outputs": [],
   "source": [
    "#Create Train-Test split\n",
    "X_train, X_test, y_train, y_test = train_test_split(X_new, y, test_size=0.1, random_state=0)"
   ]
  },
  {
   "cell_type": "markdown",
   "id": "a89b494f",
   "metadata": {},
   "source": [
    "## Linear Regression Model"
   ]
  },
  {
   "cell_type": "code",
   "execution_count": 7,
   "id": "ac875131",
   "metadata": {},
   "outputs": [
    {
     "name": "stdout",
     "output_type": "stream",
     "text": [
      "0.1213482701865089\n",
      "16.788743438193546\n"
     ]
    }
   ],
   "source": [
    "from sklearn.linear_model import LinearRegression\n",
    "\n",
    "\n",
    "linear_regression_model = LinearRegression().fit(X_train, y_train)\n",
    "\n",
    "y_pred = linear_regression_model.predict(X_test)\n",
    "\n",
    "linear_regressor_accuracy = mean_absolute_percentage_error(y_test, y_pred)\n",
    "print(linear_regressor_accuracy)\n",
    "\n",
    "rmspe_linear_regressor = (np.sqrt(np.mean(np.square((y_test - y_pred) / y_test)))) * 100\n",
    "print(rmspe_linear_regressor)"
   ]
  },
  {
   "cell_type": "markdown",
   "id": "bcd96115",
   "metadata": {},
   "source": [
    "Our first linear model has an error of ~12% using MAPE.\n",
    "Using RMSPE, it is around 16%."
   ]
  },
  {
   "cell_type": "markdown",
   "id": "5abc5199",
   "metadata": {},
   "source": [
    "## Polynomial Regression Model"
   ]
  },
  {
   "cell_type": "code",
   "execution_count": 8,
   "id": "f5ba5d98",
   "metadata": {},
   "outputs": [
    {
     "name": "stdout",
     "output_type": "stream",
     "text": [
      "0.11321869965205286\n",
      "16.21975381899448\n"
     ]
    }
   ],
   "source": [
    "# Polynomial Regression Model of degree 2 and of degree 3\n",
    "from sklearn.preprocessing import PolynomialFeatures\n",
    "\n",
    "poly_reg=PolynomialFeatures(degree=2)\n",
    "\n",
    "X_polytrain = poly_reg.fit_transform(X_train)\n",
    "X_polytest = poly_reg.fit_transform(X_test)\n",
    "\n",
    "\n",
    "lin_reg2 = LinearRegression()\n",
    "\n",
    "lin_reg2.fit(X_polytrain,y_train)\n",
    "y_pred = lin_reg2.predict(X_polytest)\n",
    "\n",
    "poly_regression_accuracy_deg2 = mean_absolute_percentage_error(y_test, y_pred)\n",
    "print(poly_regression_accuracy_deg2)\n",
    "\n",
    "rmspe_poly_regressor_deg2 = (np.sqrt(np.mean(np.square((y_test - y_pred) / y_test)))) * 100\n",
    "print(rmspe_poly_regressor_deg2)"
   ]
  },
  {
   "cell_type": "code",
   "execution_count": 9,
   "id": "d135595e",
   "metadata": {},
   "outputs": [
    {
     "name": "stdout",
     "output_type": "stream",
     "text": [
      "0.25928790416262326\n",
      "61.83987363353204\n"
     ]
    }
   ],
   "source": [
    "poly_reg=PolynomialFeatures(degree=3)\n",
    "\n",
    "X_polytrain = poly_reg.fit_transform(X_train)\n",
    "X_polytest = poly_reg.fit_transform(X_test)\n",
    "\n",
    "\n",
    "lin_reg2 = LinearRegression()\n",
    "\n",
    "lin_reg2.fit(X_polytrain,y_train)\n",
    "y_pred = lin_reg2.predict(X_polytest)\n",
    "\n",
    "poly_regression_accuracy_deg4 = mean_absolute_percentage_error(y_test, y_pred)\n",
    "print(poly_regression_accuracy_deg4)\n",
    "\n",
    "rmspe_poly_regressor_deg3 = (np.sqrt(np.mean(np.square((y_test - y_pred) / y_test)))) * 100\n",
    "print(rmspe_poly_regressor_deg3)"
   ]
  },
  {
   "cell_type": "markdown",
   "id": "5e1e2045",
   "metadata": {},
   "source": [
    "Our polynomial regression model of degree 2 was twice as accurate as our model of degree 3.\n",
    "With 10% vs 21% error rates. Using RSMPE, it has around 16% and 62% error rate."
   ]
  },
  {
   "cell_type": "markdown",
   "id": "e8968089",
   "metadata": {},
   "source": [
    "## Random Forest Regression"
   ]
  },
  {
   "cell_type": "code",
   "execution_count": 10,
   "id": "d8dbaacd",
   "metadata": {},
   "outputs": [
    {
     "name": "stdout",
     "output_type": "stream",
     "text": [
      "0.08742102065384307\n",
      "12.39330935255398\n"
     ]
    }
   ],
   "source": [
    "from sklearn.ensemble import RandomForestRegressor\n",
    "regressor = RandomForestRegressor(n_estimators = 50, random_state = 0)\n",
    "\n",
    "regressor.fit(X_train, y_train)\n",
    "\n",
    "y_pred = regressor.predict(X_test)\n",
    "\n",
    "random_forest_accuracy = mean_absolute_percentage_error(y_test, y_pred)\n",
    "print(random_forest_accuracy)\n",
    "\n",
    "rmspe_random_forrest = (np.sqrt(np.mean(np.square((y_test - y_pred) / y_test)))) * 100\n",
    "print(rmspe_random_forrest)"
   ]
  },
  {
   "cell_type": "markdown",
   "id": "028920b4",
   "metadata": {},
   "source": [
    "Our random forest model has an error of ~8%. With RSMP, it is around 12%."
   ]
  },
  {
   "cell_type": "markdown",
   "id": "b6ad1a27",
   "metadata": {},
   "source": [
    "# Other Linear Models\n",
    "Huber regression, RANSACRegressor, and Theil Sen Regression"
   ]
  },
  {
   "cell_type": "code",
   "execution_count": 11,
   "id": "6c8c2f4b",
   "metadata": {},
   "outputs": [
    {
     "name": "stdout",
     "output_type": "stream",
     "text": [
      "0.14382480037709386\n",
      "21.779583956847674\n"
     ]
    }
   ],
   "source": [
    "#Huber Regression\n",
    "from sklearn.linear_model import HuberRegressor\n",
    "\n",
    "huber_regressor = HuberRegressor(max_iter=1000).fit(X_train,y_train)\n",
    "\n",
    "y_pred = huber_regressor.predict(X_test)\n",
    "huber_regressor_accuracy = mean_absolute_percentage_error(y_test, y_pred)\n",
    "print(huber_regressor_accuracy)\n",
    "\n",
    "rmspe_huber = (np.sqrt(np.mean(np.square((y_test - y_pred) / y_test)))) * 100\n",
    "print(rmspe_huber)"
   ]
  },
  {
   "cell_type": "code",
   "execution_count": 12,
   "id": "bca09b3d",
   "metadata": {},
   "outputs": [
    {
     "name": "stdout",
     "output_type": "stream",
     "text": [
      "0.11826153989219637\n",
      "16.45066161257326\n"
     ]
    }
   ],
   "source": [
    "#RANSACRegressor\n",
    "from sklearn.linear_model import RANSACRegressor\n",
    "\n",
    "RANSAC_regressor = RANSACRegressor().fit(X_train,y_train)\n",
    "\n",
    "y_pred = RANSAC_regressor.predict(X_test)\n",
    "RANSAC_regressor_accuracy = mean_absolute_percentage_error(y_test, y_pred)\n",
    "print(RANSAC_regressor_accuracy)\n",
    "\n",
    "rmspe_RANSAC = (np.sqrt(np.mean(np.square((y_test - y_pred) / y_test)))) * 100\n",
    "print(rmspe_RANSAC)"
   ]
  },
  {
   "cell_type": "code",
   "execution_count": 13,
   "id": "f0884fe1",
   "metadata": {},
   "outputs": [
    {
     "name": "stdout",
     "output_type": "stream",
     "text": [
      "0.11098942749307471\n",
      "15.663657239126326\n"
     ]
    }
   ],
   "source": [
    "#Theil Sen Regression\n",
    "from sklearn.linear_model import TheilSenRegressor\n",
    "Theil_regressor = TheilSenRegressor().fit(X_train,y_train)\n",
    "\n",
    "y_pred = Theil_regressor.predict(X_test)\n",
    "Theil_regressor_accuracy = mean_absolute_percentage_error(y_test, y_pred)\n",
    "print(Theil_regressor_accuracy)\n",
    "\n",
    "rmspe_Theil = (np.sqrt(np.mean(np.square((y_test - y_pred) / y_test)))) * 100\n",
    "print(rmspe_Theil)"
   ]
  },
  {
   "cell_type": "markdown",
   "id": "4dc4d189",
   "metadata": {},
   "source": [
    "# Results\n"
   ]
  },
  {
   "cell_type": "code",
   "execution_count": 14,
   "id": "df9239f5",
   "metadata": {},
   "outputs": [
    {
     "data": {
      "image/png": "[encoded data removed]",
      "text/plain": [
       "<Figure size 432x288 with 1 Axes>"
      ]
     },
     "metadata": {
      "needs_background": "light"
     },
     "output_type": "display_data"
    }
   ],
   "source": [
    "#Print accuracy of all models\n",
    "from matplotlib import pyplot as plt\n",
    "\n",
    "fig = plt.figure()\n",
    "ax = fig.add_axes([0,0,1,1])\n",
    "model = ['Linear', 'Poly2', 'Poly3', 'Random Forest', 'Huber', 'RANSAC', 'Theil Sen']\n",
    "acc = [linear_regressor_accuracy,poly_regression_accuracy_deg2,poly_regression_accuracy_deg4,random_forest_accuracy,huber_regressor_accuracy\n",
    ",RANSAC_regressor_accuracy,Theil_regressor_accuracy]\n",
    "ax.bar(model,acc)\n",
    "\n",
    "ax.set_ylabel('Mean Absolute Percentage Error %', fontsize = 16)\n",
    "ax.set_xlabel('Model Name', fontsize = 16)\n",
    "ax.set_title('Results from all Models using KBest Features', fontsize = 16)\n",
    "plt.show()"
   ]
  },
  {
   "cell_type": "code",
   "execution_count": 15,
   "id": "edc4dc2c",
   "metadata": {},
   "outputs": [
    {
     "data": {
      "image/png": "[encoded data removed]",
      "text/plain": [
       "<Figure size 432x288 with 1 Axes>"
      ]
     },
     "metadata": {
      "needs_background": "light"
     },
     "output_type": "display_data"
    }
   ],
   "source": [
    "#Print accuracy of all models as bar chart\n",
    "\n",
    "fig = plt.figure()\n",
    "ax = fig.add_axes([0,0,1,1])\n",
    "model = ['Linear', 'Poly2', 'Poly3', 'Random Forest', 'Huber', 'RANSAC', 'Theil Sen']\n",
    "acc = [rmspe_linear_regressor,rmspe_poly_regressor_deg2,rmspe_poly_regressor_deg3,rmspe_random_forrest,rmspe_huber\n",
    ",rmspe_RANSAC,rmspe_Theil]\n",
    "ax.bar(model,acc)\n",
    "\n",
    "ax.set_ylabel('Root Mean Square Percentage Error %',fontsize=16)\n",
    "ax.set_xlabel('Model Name',fontsize=16)\n",
    "ax.set_title('Results from all Models using Correlation Feature Selection',fontsize=16)\n",
    "plt.show()"
   ]
  }
 ],
 "metadata": {
  "kernelspec": {
   "display_name": "Python 3 (ipykernel)",
   "language": "python",
   "name": "python3"
  },
  "language_info": {
   "codemirror_mode": {
    "name": "ipython",
    "version": 3
   },
   "file_extension": ".py",
   "mimetype": "text/x-python",
   "name": "python",
   "nbconvert_exporter": "python",
   "pygments_lexer": "ipython3",
   "version": "3.10.4"
  }
 },
 "nbformat": 4,
 "nbformat_minor": 5
}
